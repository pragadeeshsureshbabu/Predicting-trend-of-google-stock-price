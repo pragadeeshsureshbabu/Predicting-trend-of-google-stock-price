{
 "cells": [
  {
   "cell_type": "markdown",
   "metadata": {},
   "source": [
    "# Predicting Google Stock Price"
   ]
  },
  {
   "cell_type": "markdown",
   "metadata": {},
   "source": [
    "## Part 1 - Data Preprocessing"
   ]
  },
  {
   "cell_type": "code",
   "execution_count": 1,
   "metadata": {
    "collapsed": true
   },
   "outputs": [],
   "source": [
    "# Importing the libraries\n",
    "import numpy as np\n",
    "import matplotlib.pyplot as plt\n",
    "import pandas as pd"
   ]
  },
  {
   "cell_type": "code",
   "execution_count": 7,
   "metadata": {
    "collapsed": true
   },
   "outputs": [],
   "source": [
    "# Importing the training set\n",
    "dataset_train = pd.read_csv('/Users/praga/Downloads/Deep_Learning_A_Z/Recurrent_Neural_Networks/Google_Stock_Price_Train.csv')\n",
    "training_set = dataset_train.iloc[:, 1:2]\n",
    "dataset_test = pd.read_csv('/Users/praga/Downloads/Deep_Learning_A_Z/Recurrent_Neural_Networks/Google_Stock_Price_Test.csv')\n",
    "real_stock_price = dataset_test.iloc[:, 1:2]"
   ]
  },
  {
   "cell_type": "code",
   "execution_count": 11,
   "metadata": {},
   "outputs": [
    {
     "name": "stdout",
     "output_type": "stream",
     "text": [
      "       Date    Open    High     Low   Close      Volume\n",
      "0  1/3/2012  325.25  332.83  324.97  663.59   7,380,500\n",
      "1  1/4/2012  331.27  333.87  329.08  666.45   5,749,400\n",
      "2  1/5/2012  329.83  330.75  326.89  657.21   6,590,300\n",
      "3  1/6/2012  328.34  328.77  323.68  648.24   5,405,900\n",
      "4  1/9/2012  322.04  322.29  309.46  620.76  11,688,800\n",
      "(1258, 6)\n"
     ]
    }
   ],
   "source": [
    "print(dataset_train.head())\n",
    "print(dataset_train.shape)"
   ]
  },
  {
   "cell_type": "code",
   "execution_count": 8,
   "metadata": {},
   "outputs": [
    {
     "data": {
      "text/html": [
       "<div>\n",
       "<style>\n",
       "    .dataframe thead tr:only-child th {\n",
       "        text-align: right;\n",
       "    }\n",
       "\n",
       "    .dataframe thead th {\n",
       "        text-align: left;\n",
       "    }\n",
       "\n",
       "    .dataframe tbody tr th {\n",
       "        vertical-align: top;\n",
       "    }\n",
       "</style>\n",
       "<table border=\"1\" class=\"dataframe\">\n",
       "  <thead>\n",
       "    <tr style=\"text-align: right;\">\n",
       "      <th></th>\n",
       "      <th>Open</th>\n",
       "    </tr>\n",
       "  </thead>\n",
       "  <tbody>\n",
       "    <tr>\n",
       "      <th>0</th>\n",
       "      <td>325.25</td>\n",
       "    </tr>\n",
       "    <tr>\n",
       "      <th>1</th>\n",
       "      <td>331.27</td>\n",
       "    </tr>\n",
       "    <tr>\n",
       "      <th>2</th>\n",
       "      <td>329.83</td>\n",
       "    </tr>\n",
       "    <tr>\n",
       "      <th>3</th>\n",
       "      <td>328.34</td>\n",
       "    </tr>\n",
       "    <tr>\n",
       "      <th>4</th>\n",
       "      <td>322.04</td>\n",
       "    </tr>\n",
       "  </tbody>\n",
       "</table>\n",
       "</div>"
      ],
      "text/plain": [
       "     Open\n",
       "0  325.25\n",
       "1  331.27\n",
       "2  329.83\n",
       "3  328.34\n",
       "4  322.04"
      ]
     },
     "execution_count": 8,
     "metadata": {},
     "output_type": "execute_result"
    }
   ],
   "source": [
    "training_set.head()"
   ]
  },
  {
   "cell_type": "code",
   "execution_count": 9,
   "metadata": {},
   "outputs": [
    {
     "data": {
      "text/plain": [
       "(1258, 1)"
      ]
     },
     "execution_count": 9,
     "metadata": {},
     "output_type": "execute_result"
    }
   ],
   "source": [
    "training_set.shape"
   ]
  },
  {
   "cell_type": "code",
   "execution_count": 12,
   "metadata": {
    "collapsed": true
   },
   "outputs": [],
   "source": [
    "# Feature Scaling\n",
    "from sklearn.preprocessing import MinMaxScaler\n",
    "sc = MinMaxScaler(feature_range = (0, 1))\n",
    "training_set_scaled = sc.fit_transform(training_set)"
   ]
  },
  {
   "cell_type": "code",
   "execution_count": 13,
   "metadata": {
    "collapsed": true
   },
   "outputs": [],
   "source": [
    "# Creating a data structure with 60 timesteps and 1 output\n",
    "X_train = []\n",
    "y_train = []\n",
    "for i in range(60, 1258):\n",
    "    X_train.append(training_set_scaled[i-60:i, 0])\n",
    "    y_train.append(training_set_scaled[i, 0])\n",
    "X_train, y_train = np.array(X_train), np.array(y_train)"
   ]
  },
  {
   "cell_type": "code",
   "execution_count": 16,
   "metadata": {
    "collapsed": true
   },
   "outputs": [],
   "source": [
    "# Reshaping\n",
    "X_train = np.reshape(X_train, (X_train.shape[0], X_train.shape[1], 1)) #(batch_size, time_steps, indicator)"
   ]
  },
  {
   "cell_type": "markdown",
   "metadata": {},
   "source": [
    "## Part 2 - Building the RNN"
   ]
  },
  {
   "cell_type": "code",
   "execution_count": 21,
   "metadata": {},
   "outputs": [],
   "source": [
    "# Importing the Keras libraries and packages\n",
    "from keras.models import Sequential\n",
    "from keras.layers import Dense\n",
    "from keras.layers import LSTM\n",
    "from keras.layers import Dropout\n",
    "from keras import metrics"
   ]
  },
  {
   "cell_type": "code",
   "execution_count": 36,
   "metadata": {},
   "outputs": [
    {
     "name": "stdout",
     "output_type": "stream",
     "text": [
      "Epoch 1/100\n",
      "1198/1198 [==============================] - 18s 15ms/step - loss: 0.0455\n",
      "Epoch 2/100\n",
      "1198/1198 [==============================] - 8s 7ms/step - loss: 0.0074A: 0s - loss: 0.\n",
      "Epoch 3/100\n",
      "1198/1198 [==============================] - 8s 6ms/step - loss: 0.0072\n",
      "Epoch 4/100\n",
      "1198/1198 [==============================] - 7s 6ms/step - loss: 0.0062\n",
      "Epoch 5/100\n",
      "1198/1198 [==============================] - 7s 6ms/step - loss: 0.0060\n",
      "Epoch 6/100\n",
      "1198/1198 [==============================] - 7s 6ms/step - loss: 0.0058\n",
      "Epoch 7/100\n",
      "1198/1198 [==============================] - 10s 9ms/step - loss: 0.0060\n",
      "Epoch 8/100\n",
      "1198/1198 [==============================] - 8s 7ms/step - loss: 0.0056\n",
      "Epoch 9/100\n",
      "1198/1198 [==============================] - 7s 6ms/step - loss: 0.0058\n",
      "Epoch 10/100\n",
      "1198/1198 [==============================] - 7s 6ms/step - loss: 0.0057A: 0s - loss: 0.0\n",
      "Epoch 11/100\n",
      "1198/1198 [==============================] - 7s 6ms/step - loss: 0.0050\n",
      "Epoch 12/100\n",
      "1198/1198 [==============================] - 8s 6ms/step - loss: 0.0044\n",
      "Epoch 13/100\n",
      "1198/1198 [==============================] - 8s 7ms/step - loss: 0.0054\n",
      "Epoch 14/100\n",
      "1198/1198 [==============================] - 8s 7ms/step - loss: 0.0057\n",
      "Epoch 15/100\n",
      "1198/1198 [==============================] - 8s 7ms/step - loss: 0.0046\n",
      "Epoch 16/100\n",
      "1198/1198 [==============================] - 8s 7ms/step - loss: 0.0043\n",
      "Epoch 17/100\n",
      "1198/1198 [==============================] - 9s 8ms/step - loss: 0.0050\n",
      "Epoch 18/100\n",
      "1198/1198 [==============================] - 9s 8ms/step - loss: 0.0047\n",
      "Epoch 19/100\n",
      "1198/1198 [==============================] - 9s 7ms/step - loss: 0.0043\n",
      "Epoch 20/100\n",
      "1198/1198 [==============================] - 9s 7ms/step - loss: 0.0042\n",
      "Epoch 21/100\n",
      "1198/1198 [==============================] - 10s 9ms/step - loss: 0.0039\n",
      "Epoch 22/100\n",
      "1198/1198 [==============================] - 11s 9ms/step - loss: 0.0041\n",
      "Epoch 23/100\n",
      "1198/1198 [==============================] - 9s 8ms/step - loss: 0.0041A: 2s - los\n",
      "Epoch 24/100\n",
      "1198/1198 [==============================] - 9s 7ms/step - loss: 0.0046\n",
      "Epoch 25/100\n",
      "1198/1198 [==============================] - 8s 7ms/step - loss: 0.0037\n",
      "Epoch 26/100\n",
      "1198/1198 [==============================] - 10s 8ms/step - loss: 0.0042\n",
      "Epoch 27/100\n",
      "1198/1198 [==============================] - 9s 8ms/step - loss: 0.0040\n",
      "Epoch 28/100\n",
      "1198/1198 [==============================] - 12s 10ms/step - loss: 0.0041\n",
      "Epoch 29/100\n",
      "1198/1198 [==============================] - 10s 9ms/step - loss: 0.0037\n",
      "Epoch 30/100\n",
      "1198/1198 [==============================] - 10s 8ms/step - loss: 0.0032\n",
      "Epoch 31/100\n",
      "1198/1198 [==============================] - 8s 7ms/step - loss: 0.0038\n",
      "Epoch 32/100\n",
      "1198/1198 [==============================] - 8s 7ms/step - loss: 0.0034\n",
      "Epoch 33/100\n",
      "1198/1198 [==============================] - 9s 8ms/step - loss: 0.0037\n",
      "Epoch 34/100\n",
      "1198/1198 [==============================] - 9s 8ms/step - loss: 0.0034\n",
      "Epoch 35/100\n",
      "1198/1198 [==============================] - 9s 7ms/step - loss: 0.0036\n",
      "Epoch 36/100\n",
      "1198/1198 [==============================] - 9s 7ms/step - loss: 0.0034\n",
      "Epoch 37/100\n",
      "1198/1198 [==============================] - 9s 7ms/step - loss: 0.0035\n",
      "Epoch 38/100\n",
      "1198/1198 [==============================] - 9s 7ms/step - loss: 0.0033\n",
      "Epoch 39/100\n",
      "1198/1198 [==============================] - 9s 8ms/step - loss: 0.0031\n",
      "Epoch 40/100\n",
      "1198/1198 [==============================] - 8s 7ms/step - loss: 0.0031\n",
      "Epoch 41/100\n",
      "1198/1198 [==============================] - 8s 7ms/step - loss: 0.0032\n",
      "Epoch 42/100\n",
      "1198/1198 [==============================] - 9s 7ms/step - loss: 0.0031\n",
      "Epoch 43/100\n",
      "1198/1198 [==============================] - 9s 8ms/step - loss: 0.0028\n",
      "Epoch 44/100\n",
      "1198/1198 [==============================] - 8s 7ms/step - loss: 0.0031\n",
      "Epoch 45/100\n",
      "1198/1198 [==============================] - 8s 7ms/step - loss: 0.0029\n",
      "Epoch 46/100\n",
      "1198/1198 [==============================] - 7s 6ms/step - loss: 0.0028\n",
      "Epoch 47/100\n",
      "1198/1198 [==============================] - 8s 6ms/step - loss: 0.0032\n",
      "Epoch 48/100\n",
      "1198/1198 [==============================] - 8s 6ms/step - loss: 0.0025\n",
      "Epoch 49/100\n",
      "1198/1198 [==============================] - 8s 6ms/step - loss: 0.0024\n",
      "Epoch 50/100\n",
      "1198/1198 [==============================] - 8s 6ms/step - loss: 0.0026\n",
      "Epoch 51/100\n",
      "1198/1198 [==============================] - 8s 7ms/step - loss: 0.0027\n",
      "Epoch 52/100\n",
      "1198/1198 [==============================] - 8s 7ms/step - loss: 0.0029\n",
      "Epoch 53/100\n",
      "1198/1198 [==============================] - 9s 7ms/step - loss: 0.0026\n",
      "Epoch 54/100\n",
      "1198/1198 [==============================] - 9s 7ms/step - loss: 0.0028\n",
      "Epoch 55/100\n",
      "1198/1198 [==============================] - 8s 7ms/step - loss: 0.0032\n",
      "Epoch 56/100\n",
      "1198/1198 [==============================] - 7s 6ms/step - loss: 0.0025\n",
      "Epoch 57/100\n",
      "1198/1198 [==============================] - 7s 6ms/step - loss: 0.0027\n",
      "Epoch 58/100\n",
      "1198/1198 [==============================] - 8s 7ms/step - loss: 0.0024\n",
      "Epoch 59/100\n",
      "1198/1198 [==============================] - 8s 7ms/step - loss: 0.0023\n",
      "Epoch 60/100\n",
      "1198/1198 [==============================] - 7s 6ms/step - loss: 0.0023\n",
      "Epoch 61/100\n",
      "1198/1198 [==============================] - 7s 6ms/step - loss: 0.0025\n",
      "Epoch 62/100\n",
      "1198/1198 [==============================] - 7s 6ms/step - loss: 0.0026\n",
      "Epoch 63/100\n",
      "1198/1198 [==============================] - 7s 6ms/step - loss: 0.0023\n",
      "Epoch 64/100\n",
      "1198/1198 [==============================] - 7s 6ms/step - loss: 0.0021\n",
      "Epoch 65/100\n",
      "1198/1198 [==============================] - 7s 6ms/step - loss: 0.0022\n",
      "Epoch 66/100\n",
      "1198/1198 [==============================] - 6s 5ms/step - loss: 0.0022\n",
      "Epoch 67/100\n",
      "1198/1198 [==============================] - 8s 6ms/step - loss: 0.0020\n",
      "Epoch 68/100\n",
      "1198/1198 [==============================] - 7s 6ms/step - loss: 0.0021\n",
      "Epoch 69/100\n",
      "1198/1198 [==============================] - 8s 7ms/step - loss: 0.0020\n",
      "Epoch 70/100\n",
      "1198/1198 [==============================] - 6s 5ms/step - loss: 0.0020\n",
      "Epoch 71/100\n",
      "1198/1198 [==============================] - 6s 5ms/step - loss: 0.0022\n",
      "Epoch 72/100\n",
      "1198/1198 [==============================] - 6s 5ms/step - loss: 0.0021\n",
      "Epoch 73/100\n",
      "1198/1198 [==============================] - 6s 5ms/step - loss: 0.0020\n",
      "Epoch 74/100\n",
      "1198/1198 [==============================] - 6s 5ms/step - loss: 0.0021\n",
      "Epoch 75/100\n",
      "1198/1198 [==============================] - 6s 5ms/step - loss: 0.0023\n",
      "Epoch 76/100\n",
      "1198/1198 [==============================] - 6s 5ms/step - loss: 0.0020\n",
      "Epoch 77/100\n",
      "1198/1198 [==============================] - 6s 5ms/step - loss: 0.0020\n",
      "Epoch 78/100\n",
      "1198/1198 [==============================] - 6s 5ms/step - loss: 0.0020\n",
      "Epoch 79/100\n",
      "1198/1198 [==============================] - 6s 5ms/step - loss: 0.0019\n",
      "Epoch 80/100\n",
      "1198/1198 [==============================] - 6s 5ms/step - loss: 0.0020\n",
      "Epoch 81/100\n",
      "1198/1198 [==============================] - 6s 5ms/step - loss: 0.0018\n",
      "Epoch 82/100\n",
      "1198/1198 [==============================] - 6s 5ms/step - loss: 0.0019\n",
      "Epoch 83/100\n",
      "1198/1198 [==============================] - 6s 5ms/step - loss: 0.0018\n",
      "Epoch 84/100\n",
      "1198/1198 [==============================] - 6s 5ms/step - loss: 0.0018\n",
      "Epoch 85/100\n",
      "1198/1198 [==============================] - 6s 5ms/step - loss: 0.0018\n",
      "Epoch 86/100\n",
      "1198/1198 [==============================] - 6s 5ms/step - loss: 0.0019\n",
      "Epoch 87/100\n",
      "1198/1198 [==============================] - 6s 5ms/step - loss: 0.0020\n",
      "Epoch 88/100\n",
      "1198/1198 [==============================] - 6s 5ms/step - loss: 0.0018\n",
      "Epoch 89/100\n",
      "1198/1198 [==============================] - 6s 5ms/step - loss: 0.0018\n",
      "Epoch 90/100\n",
      "1198/1198 [==============================] - 6s 5ms/step - loss: 0.0018\n",
      "Epoch 91/100\n",
      "1198/1198 [==============================] - 6s 5ms/step - loss: 0.0017\n",
      "Epoch 92/100\n",
      "1198/1198 [==============================] - 6s 5ms/step - loss: 0.0018\n",
      "Epoch 93/100\n",
      "1198/1198 [==============================] - 6s 5ms/step - loss: 0.0017\n",
      "Epoch 94/100\n",
      "1198/1198 [==============================] - 6s 5ms/step - loss: 0.0018\n",
      "Epoch 95/100\n",
      "1198/1198 [==============================] - 6s 5ms/step - loss: 0.0016\n",
      "Epoch 96/100\n"
     ]
    },
    {
     "name": "stdout",
     "output_type": "stream",
     "text": [
      "1198/1198 [==============================] - 6s 5ms/step - loss: 0.0017\n",
      "Epoch 97/100\n",
      "1198/1198 [==============================] - 6s 5ms/step - loss: 0.0018\n",
      "Epoch 98/100\n",
      "1198/1198 [==============================] - 6s 5ms/step - loss: 0.0015\n",
      "Epoch 99/100\n",
      "1198/1198 [==============================] - 6s 5ms/step - loss: 0.0015\n",
      "Epoch 100/100\n",
      "1198/1198 [==============================] - 6s 5ms/step - loss: 0.0016\n"
     ]
    },
    {
     "data": {
      "text/plain": [
       "<keras.callbacks.History at 0x29d62018048>"
      ]
     },
     "execution_count": 36,
     "metadata": {},
     "output_type": "execute_result"
    }
   ],
   "source": [
    "# Initialising the RNN\n",
    "regressor = Sequential()\n",
    "\n",
    "# Adding the first LSTM layer and some Dropout regularisation\n",
    "regressor.add(LSTM(units = 128, return_sequences = True, input_shape = (X_train.shape[1], 1)))\n",
    "regressor.add(Dropout(0.2))\n",
    "\n",
    "# Adding a second LSTM layer and some Dropout regularisation\n",
    "regressor.add(LSTM(units = 64, return_sequences = True))\n",
    "regressor.add(Dropout(0.2))\n",
    "\n",
    "# Adding a third LSTM layer and some Dropout regularisation\n",
    "regressor.add(LSTM(units = 64, return_sequences = True))\n",
    "regressor.add(Dropout(0.2))\n",
    "\n",
    "# Adding a fourth LSTM layer and some Dropout regularisation\n",
    "regressor.add(LSTM(units = 32, return_sequences = True))\n",
    "regressor.add(Dropout(0.2))\n",
    "\n",
    "# Adding a fifth LSTM layer and some Dropout regularisation\n",
    "regressor.add(LSTM(units = 32))\n",
    "regressor.add(Dropout(0.2))\n",
    "\n",
    "# Adding the output layer\n",
    "regressor.add(Dense(units = 1))\n",
    "\n",
    "# Compiling the RNN\n",
    "regressor.compile(optimizer = 'adam', loss = 'mean_squared_error')\n",
    "\n",
    "# Fitting the RNN to the Training set\n",
    "regressor.fit(X_train, y_train, epochs = 100, batch_size = 32)\n"
   ]
  },
  {
   "cell_type": "markdown",
   "metadata": {},
   "source": [
    "## Part 3 - Making the predictions and visualising the results"
   ]
  },
  {
   "cell_type": "code",
   "execution_count": 37,
   "metadata": {
    "collapsed": true
   },
   "outputs": [],
   "source": [
    "# Getting the predicted stock price of 2017\n",
    "dataset_total = pd.concat((dataset_train['Open'], dataset_test['Open']), axis = 0)\n",
    "inputs = dataset_total[len(dataset_total) - len(dataset_test) - 60:].values\n",
    "inputs = inputs.reshape(-1,1)\n",
    "inputs = sc.transform(inputs)"
   ]
  },
  {
   "cell_type": "code",
   "execution_count": 38,
   "metadata": {
    "collapsed": true
   },
   "outputs": [],
   "source": [
    "X_test = []\n",
    "for i in range(60, 80):\n",
    "    X_test.append(inputs[i-60:i, 0])\n",
    "X_test = np.array(X_test)\n",
    "X_test = np.reshape(X_test, (X_test.shape[0], X_test.shape[1], 1))\n",
    "predicted_stock_price = regressor.predict(X_test)\n",
    "predicted_stock_price = sc.inverse_transform(predicted_stock_price)"
   ]
  },
  {
   "cell_type": "code",
   "execution_count": 39,
   "metadata": {},
   "outputs": [
    {
     "data": {
      "image/png": "[encoded data removed]",
      "text/plain": [
       "<matplotlib.figure.Figure at 0x29d6cc29278>"
      ]
     },
     "metadata": {},
     "output_type": "display_data"
    }
   ],
   "source": [
    "# Visualising the results\n",
    "plt.plot(real_stock_price, color = 'red', label = 'Real Google Stock Price')\n",
    "plt.plot(predicted_stock_price, color = 'blue', label = 'Predicted Google Stock Price')\n",
    "plt.title('Google Stock Price Prediction')\n",
    "plt.xlabel('Time')\n",
    "plt.ylabel('Google Stock Price')\n",
    "plt.legend()\n",
    "plt.show()\n"
   ]
  },
  {
   "cell_type": "code",
   "execution_count": null,
   "metadata": {
    "collapsed": true
   },
   "outputs": [],
   "source": []
  }
 ],
 "metadata": {
  "kernelspec": {
   "display_name": "Python 3",
   "language": "python",
   "name": "python3"
  },
  "language_info": {
   "codemirror_mode": {
    "name": "ipython",
    "version": 3
   },
   "file_extension": ".py",
   "mimetype": "text/x-python",
   "name": "python",
   "nbconvert_exporter": "python",
   "pygments_lexer": "ipython3",
   "version": "3.6.3"
  }
 },
 "nbformat": 4,
 "nbformat_minor": 2
}
